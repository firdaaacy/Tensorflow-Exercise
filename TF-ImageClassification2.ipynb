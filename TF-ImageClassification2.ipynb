{
  "cells": [
    {
      "cell_type": "markdown",
      "metadata": {
        "id": "view-in-github",
        "colab_type": "text"
      },
      "source": [
        "<a href=\"https://colab.research.google.com/github/firdaaacy/Tensorflow-Exercise/blob/main/TF-ImageClassification2.ipynb\" target=\"_parent\"><img src=\"https://colab.research.google.com/assets/colab-badge.svg\" alt=\"Open In Colab\"/></a>"
      ]
    },
    {
      "cell_type": "markdown",
      "metadata": {
        "id": "mBvQynIouU9i"
      },
      "source": [
        "SUBMISSION B\n"
      ]
    },
    {
      "cell_type": "code",
      "execution_count": null,
      "metadata": {
        "colab": {
          "base_uri": "https://localhost:8080/"
        },
        "id": "YSxZQBvSu8cQ",
        "outputId": "dac55e5f-5312-4ffc-d799-fa34831be114"
      },
      "outputs": [
        {
          "name": "stdout",
          "output_type": "stream",
          "text": [
            "Downloading data from https://storage.googleapis.com/tensorflow/tf-keras-datasets/train-labels-idx1-ubyte.gz\n",
            "32768/29515 [=================================] - 0s 0us/step\n",
            "40960/29515 [=========================================] - 0s 0us/step\n",
            "Downloading data from https://storage.googleapis.com/tensorflow/tf-keras-datasets/train-images-idx3-ubyte.gz\n",
            "26427392/26421880 [==============================] - 0s 0us/step\n",
            "26435584/26421880 [==============================] - 0s 0us/step\n",
            "Downloading data from https://storage.googleapis.com/tensorflow/tf-keras-datasets/t10k-labels-idx1-ubyte.gz\n",
            "16384/5148 [===============================================================================================] - 0s 0us/step\n",
            "Downloading data from https://storage.googleapis.com/tensorflow/tf-keras-datasets/t10k-images-idx3-ubyte.gz\n",
            "4423680/4422102 [==============================] - 0s 0us/step\n",
            "4431872/4422102 [==============================] - 0s 0us/step\n",
            "Epoch 1/10\n",
            "1875/1875 [==============================] - 48s 25ms/step - loss: 0.5911 - accuracy: 0.7963 - val_loss: 0.4689 - val_accuracy: 0.8373\n",
            "Epoch 2/10\n",
            "1875/1875 [==============================] - 49s 26ms/step - loss: 0.4080 - accuracy: 0.8513 - val_loss: 0.4050 - val_accuracy: 0.8495\n",
            "Epoch 3/10\n",
            "1875/1875 [==============================] - 47s 25ms/step - loss: 0.3603 - accuracy: 0.8673 - val_loss: 0.3702 - val_accuracy: 0.8648\n",
            "Epoch 4/10\n",
            "1875/1875 [==============================] - 46s 25ms/step - loss: 0.3322 - accuracy: 0.8777 - val_loss: 0.3652 - val_accuracy: 0.8688\n",
            "Epoch 5/10\n",
            "1875/1875 [==============================] - 47s 25ms/step - loss: 0.3077 - accuracy: 0.8848 - val_loss: 0.3577 - val_accuracy: 0.8729\n",
            "Epoch 6/10\n",
            "1875/1875 [==============================] - 47s 25ms/step - loss: 0.2894 - accuracy: 0.8923 - val_loss: 0.3576 - val_accuracy: 0.8715\n",
            "Epoch 7/10\n",
            "1875/1875 [==============================] - 47s 25ms/step - loss: 0.2732 - accuracy: 0.8968 - val_loss: 0.3609 - val_accuracy: 0.8733\n",
            "Epoch 8/10\n",
            "1875/1875 [==============================] - 47s 25ms/step - loss: 0.2606 - accuracy: 0.9021 - val_loss: 0.3502 - val_accuracy: 0.8812\n",
            "Epoch 9/10\n",
            "1875/1875 [==============================] - 46s 25ms/step - loss: 0.2525 - accuracy: 0.9055 - val_loss: 0.3926 - val_accuracy: 0.8668\n",
            "Epoch 10/10\n",
            "1875/1875 [==============================] - 46s 24ms/step - loss: 0.2422 - accuracy: 0.9103 - val_loss: 0.3736 - val_accuracy: 0.8831\n"
          ]
        }
      ],
      "source": [
        "# =============================================================================\n",
        "# PROBLEM B2\n",
        "#\n",
        "# Build a classifier for the Fashion MNIST dataset.\n",
        "# The test will expect it to classify 10 classes.\n",
        "# The input shape should be 28x28 monochrome. Do not resize the data.\n",
        "# Your input layer should accept (28, 28) as the input shape.\n",
        "#\n",
        "# Don't use lambda layers in your model.\n",
        "#\n",
        "# Desired accuracy AND validation_accuracy > 83%\n",
        "# =============================================================================\n",
        "\n",
        "import tensorflow as tf\n",
        "\n",
        "\n",
        "def solution_B2():\n",
        "    fashion_mnist = tf.keras.datasets.fashion_mnist\n",
        "    (train_x, train_y), (x_test, y_test) = fashion_mnist.load_data()\n",
        "\n",
        "    # YOUR CODE HERE\n",
        "    model = tf.keras.models.Sequential([tf.keras.layers.Conv2D(16, (3, 3), activation='relu', input_shape=(28, 28, 1)),\n",
        "                                        tf.keras.layers.MaxPooling2D(2, 2),\n",
        "\n",
        "                                        tf.keras.layers.Conv2D(64, (3, 3), activation='relu'),\n",
        "                                        tf.keras.layers.MaxPooling2D(2, 2),\n",
        "\n",
        "                                        tf.keras.layers.Conv2D(128, (3, 3), activation='relu'),\n",
        "                                        tf.keras.layers.MaxPooling2D(2, 2),\n",
        "\n",
        "                                        tf.keras.layers.Flatten(),\n",
        "                                        tf.keras.layers.Dense(128, activation='relu'),\n",
        "                                        tf.keras.layers.Dense(128, activation='relu'),\n",
        "                                        tf.keras.layers.Dense(10, activation='softmax'),\n",
        "                                        ])\n",
        "    callbacks = keras.callbacks.EarlyStopping\n",
        "    model.compile(optimizer=\"adam\", loss=\"sparse_categorical_crossentropy\", metrics=[\"accuracy\"])\n",
        "\n",
        "    model.fit(train_x, train_y, validation_data=(x_test, y_test), epochs=10, callback=[])\n",
        "\n",
        "    return model\n",
        "\n",
        "\n",
        "# The code below is to save your model as a .h5 file.\n",
        "# It will be saved automatically in your Submission folder.\n",
        "if __name__ == '__main__':\n",
        "    model = solution_B2()\n",
        "    model.save(\"model_B2.h5\")\n",
        "\n"
      ]
    },
    {
      "cell_type": "code",
      "execution_count": null,
      "metadata": {
        "colab": {
          "base_uri": "https://localhost:8080/"
        },
        "id": "yL9l-4n1w97r",
        "outputId": "761400ff-d375-4c0b-90f6-faae1f50d341"
      },
      "outputs": [
        {
          "name": "stdout",
          "output_type": "stream",
          "text": [
            "Epoch 1/10\n",
            "1875/1875 [==============================] - 89s 47ms/step - loss: 0.5163 - accuracy: 0.8307 - val_loss: 0.4118 - val_accuracy: 0.8556\n",
            "Epoch 2/10\n",
            "1875/1875 [==============================] - 87s 46ms/step - loss: 0.3374 - accuracy: 0.8762 - val_loss: 0.3716 - val_accuracy: 0.8690\n",
            "Epoch 3/10\n",
            "1875/1875 [==============================] - 86s 46ms/step - loss: 0.2979 - accuracy: 0.8895 - val_loss: 0.3487 - val_accuracy: 0.8770\n",
            "Epoch 4/10\n",
            "1875/1875 [==============================] - 85s 45ms/step - loss: 0.2738 - accuracy: 0.8985 - val_loss: 0.3399 - val_accuracy: 0.8744\n",
            "Epoch 5/10\n",
            "1875/1875 [==============================] - 84s 45ms/step - loss: 0.2584 - accuracy: 0.9034 - val_loss: 0.3169 - val_accuracy: 0.8882\n",
            "Epoch 6/10\n",
            "1875/1875 [==============================] - 86s 46ms/step - loss: 0.2412 - accuracy: 0.9089 - val_loss: 0.3226 - val_accuracy: 0.8906\n",
            "Epoch 7/10\n",
            "1875/1875 [==============================] - 87s 46ms/step - loss: 0.2275 - accuracy: 0.9146 - val_loss: 0.3293 - val_accuracy: 0.8895\n",
            "Epoch 8/10\n",
            "1875/1875 [==============================] - 87s 46ms/step - loss: 0.2152 - accuracy: 0.9190 - val_loss: 0.3463 - val_accuracy: 0.8866\n",
            "Epoch 9/10\n",
            "1875/1875 [==============================] - 88s 47ms/step - loss: 0.2053 - accuracy: 0.9219 - val_loss: 0.3401 - val_accuracy: 0.8890\n",
            "Epoch 10/10\n",
            "1875/1875 [==============================] - 88s 47ms/step - loss: 0.1941 - accuracy: 0.9264 - val_loss: 0.3659 - val_accuracy: 0.8944\n"
          ]
        }
      ],
      "source": [
        "# =============================================================================\n",
        "# PROBLEM B2\n",
        "#\n",
        "# Build a classifier for the Fashion MNIST dataset.\n",
        "# The test will expect it to classify 10 classes.\n",
        "# The input shape should be 28x28 monochrome. Do not resize the data.\n",
        "# Your input layer should accept (28, 28) as the input shape.\n",
        "#\n",
        "# Don't use lambda layers in your model.\n",
        "#\n",
        "# Desired accuracy AND validation_accuracy > 83%\n",
        "# =============================================================================\n",
        "\n",
        "import tensorflow as tf\n",
        "\n",
        "\n",
        "# class MyCallback(tf.keras.callbacks.Callback):\n",
        "#     def on_epoch_end(self, epoch, logs={}):\n",
        "#         if (logs.get('val_accuracy') > 0.86 and logs.get('accuracy') > 0.86):\n",
        "#             print(\"\\nAccuracy and Validation Accuracy reached 86%, so cancelled training!\")\n",
        "#             self.model.stop_training = True\n",
        "\n",
        "\n",
        "def solution_B2():\n",
        "    fashion_mnist = tf.keras.datasets.fashion_mnist\n",
        "    (train_x, train_y), (x_test, y_test) = fashion_mnist.load_data()\n",
        "\n",
        "    # YOUR CODE HERE\n",
        "    model = tf.keras.models.Sequential([tf.keras.layers.Conv2D(64, (3, 3), activation='relu', input_shape=(28, 28, 1)),\n",
        "                                        tf.keras.layers.MaxPooling2D(2, 2),\n",
        "\n",
        "                                        tf.keras.layers.Conv2D(64, (3, 3), activation='relu'),\n",
        "                                        tf.keras.layers.MaxPooling2D(2, 2),\n",
        "\n",
        "                                        # tf.keras.layers.Conv2D(128, (3, 3), activation='relu'),\n",
        "                                        # tf.keras.layers.MaxPooling2D(2, 2),\n",
        "\n",
        "                                        tf.keras.layers.Flatten(),\n",
        "                                        tf.keras.layers.Dense(64, activation='relu'),\n",
        "                                        tf.keras.layers.Dense(10, activation='softmax'),\n",
        "                                        ])\n",
        "    # callbacks = MyCallback()\n",
        "    model.compile(optimizer=\"adam\", loss=\"sparse_categorical_crossentropy\", metrics=[\"accuracy\"])\n",
        "    model.fit(train_x, train_y, validation_data=(x_test, y_test), epochs=10)\n",
        "\n",
        "    return model\n",
        "\n",
        "\n",
        "# The code below is to save your model as a .h5 file.\n",
        "# It will be saved automatically in your Submission folder.\n",
        "if __name__ == '__main__':\n",
        "    model = solution_B2()\n",
        "    model.save(\"model_B2.h5\")\n",
        "\n"
      ]
    },
    {
      "cell_type": "markdown",
      "metadata": {
        "id": "AV4wHgx5ITCe"
      },
      "source": [
        "PAKET C\n"
      ]
    },
    {
      "cell_type": "code",
      "execution_count": null,
      "metadata": {
        "colab": {
          "base_uri": "https://localhost:8080/"
        },
        "id": "_DcXSToLK7po",
        "outputId": "a8e194e8-6f55-4ea2-cd1c-d0116806581f"
      },
      "outputs": [
        {
          "name": "stdout",
          "output_type": "stream",
          "text": [
            "Downloading data from https://storage.googleapis.com/tensorflow/tf-keras-datasets/mnist.npz\n",
            "11493376/11490434 [==============================] - 0s 0us/step\n",
            "11501568/11490434 [==============================] - 0s 0us/step\n",
            "Epoch 1/10\n",
            "1875/1875 [==============================] - 48s 25ms/step - loss: 0.1992 - accuracy: 0.9391 - val_loss: 0.0744 - val_accuracy: 0.9776\n",
            "Epoch 2/10\n",
            "1875/1875 [==============================] - 50s 27ms/step - loss: 0.0693 - accuracy: 0.9794 - val_loss: 0.0622 - val_accuracy: 0.9815\n",
            "Epoch 3/10\n",
            "1875/1875 [==============================] - 47s 25ms/step - loss: 0.0513 - accuracy: 0.9841 - val_loss: 0.0646 - val_accuracy: 0.9822\n",
            "Epoch 4/10\n",
            "1875/1875 [==============================] - 47s 25ms/step - loss: 0.0399 - accuracy: 0.9877 - val_loss: 0.0526 - val_accuracy: 0.9849\n",
            "Epoch 5/10\n",
            "1875/1875 [==============================] - 47s 25ms/step - loss: 0.0325 - accuracy: 0.9896 - val_loss: 0.0569 - val_accuracy: 0.9850\n",
            "Epoch 6/10\n",
            "1875/1875 [==============================] - 47s 25ms/step - loss: 0.0267 - accuracy: 0.9916 - val_loss: 0.0914 - val_accuracy: 0.9754\n",
            "Epoch 7/10\n",
            "1875/1875 [==============================] - 47s 25ms/step - loss: 0.0237 - accuracy: 0.9925 - val_loss: 0.0613 - val_accuracy: 0.9844\n",
            "Epoch 8/10\n",
            "1875/1875 [==============================] - 46s 25ms/step - loss: 0.0195 - accuracy: 0.9940 - val_loss: 0.0529 - val_accuracy: 0.9875\n",
            "Epoch 9/10\n",
            "1875/1875 [==============================] - 47s 25ms/step - loss: 0.0167 - accuracy: 0.9949 - val_loss: 0.0613 - val_accuracy: 0.9868\n",
            "Epoch 10/10\n",
            "1875/1875 [==============================] - 47s 25ms/step - loss: 0.0156 - accuracy: 0.9952 - val_loss: 0.0551 - val_accuracy: 0.9878\n"
          ]
        }
      ],
      "source": [
        "# =============================================================================\n",
        "# PROBLEM C2\n",
        "#\n",
        "# Create a classifier for the MNIST Handwritten digit dataset.\n",
        "# The test will expect it to classify 10 classes.\n",
        "#\n",
        "# Don't use lambda layers in your model.\n",
        "#\n",
        "# Desired accuracy AND validation_accuracy > 91%\n",
        "# =============================================================================\n",
        "\n",
        "import tensorflow as tf\n",
        "\n",
        "\n",
        "def solution_C2():\n",
        "    mnist = tf.keras.datasets.mnist\n",
        "    (x_train, y_train), (x_test, y_test) = mnist.load_data()\n",
        "\n",
        "    # NORMALIZE YOUR IMAGE HERE\n",
        "    x_train = x_train / 255.0\n",
        "    x_test = x_test / 255.0\n",
        "\n",
        "    # DEFINE YOUR MODEL HERE\n",
        "    # End with 10 Neuron Dense, activated by softmax\n",
        "    model = tf.keras.models.Sequential([tf.keras.layers.Conv2D(16, (3, 3), activation='relu', input_shape=(28, 28, 1)),\n",
        "                                        tf.keras.layers.MaxPooling2D(2, 2),\n",
        "\n",
        "                                        tf.keras.layers.Conv2D(64, (3, 3), activation='relu'),\n",
        "                                        tf.keras.layers.MaxPooling2D(2, 2),\n",
        "\n",
        "                                        tf.keras.layers.Conv2D(128, (3, 3), activation='relu'),\n",
        "                                        tf.keras.layers.MaxPooling2D(2, 2),\n",
        "\n",
        "                                        tf.keras.layers.Flatten(),\n",
        "                                        tf.keras.layers.Dense(128, activation='relu'),\n",
        "                                        tf.keras.layers.Dense(128, activation='relu'),\n",
        "                                        tf.keras.layers.Dense(10, activation='softmax'),\n",
        "                                        ])\n",
        "\n",
        "    # COMPILE MODEL HERE\n",
        "    \n",
        "    model.compile(optimizer=\"adam\", loss=\"sparse_categorical_crossentropy\", metrics=[\"accuracy\"])\n",
        "\n",
        "    # TRAIN YOUR MODEL HERE\n",
        "    model.fit(x_train, y_train, validation_data=(x_test, y_test), epochs=10\n",
        "              )\n",
        "\n",
        "    return model\n",
        "\n",
        "\n",
        "# The code below is to save your model as a .h5 file.\n",
        "# It will be saved automatically in your Submission folder.\n",
        "if __name__ == '__main__':\n",
        "    # DO NOT CHANGE THIS CODE\n",
        "    model = solution_C2()\n",
        "    model.save(\"model_C2.h5\")\n"
      ]
    }
  ],
  "metadata": {
    "colab": {
      "collapsed_sections": [],
      "provenance": [],
      "authorship_tag": "ABX9TyP066vNfBRAz6BR1hdb+qt1",
      "include_colab_link": true
    },
    "kernelspec": {
      "display_name": "Python 3",
      "name": "python3"
    },
    "language_info": {
      "name": "python"
    }
  },
  "nbformat": 4,
  "nbformat_minor": 0
}